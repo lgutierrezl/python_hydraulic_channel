{
  "cells": [
    {
      "cell_type": "markdown",
      "metadata": {
        "colab_type": "text",
        "id": "view-in-github"
      },
      "source": [
        "<a href=\"https://colab.research.google.com/github/lgutierrezl/python_hydraulic_channel/blob/main/01_geom_channel.ipynb\" target=\"_parent\"><img src=\"https://colab.research.google.com/assets/colab-badge.svg\" alt=\"Open In Colab\"/></a>"
      ]
    },
    {
      "cell_type": "markdown",
      "metadata": {
        "id": "XHqxcUL6RTyb"
      },
      "source": [
        "##  Circular Channel Flow "
      ]
    },
    {
      "cell_type": "code",
      "execution_count": null,
      "metadata": {
        "id": "YpyApwd0RWoy"
      },
      "outputs": [],
      "source": [
        "import numpy as np\n",
        "\n",
        "def canal_circular(D, y, w):\n",
        "  wr = np.radians(w)\n",
        "  A = (wr-np.sin(wr))*(D**2)/8\n",
        "  T = 2*np.sqrt(y*(D-y))\n",
        "  P = wr*D/2\n",
        "  R = A/P\n",
        "  return A, T, P, R"
      ]
    },
    {
      "cell_type": "code",
      "execution_count": null,
      "metadata": {},
      "outputs": [],
      "source": [
        "canal_circular(1.5, 0.327, 111.46)"
      ]
    }
  ],
  "metadata": {
    "colab": {
      "authorship_tag": "ABX9TyMG5+98eyymew1ryx1Rd+eV",
      "include_colab_link": true,
      "name": "Hidraulica_canales.ipynb",
      "provenance": []
    },
    "kernelspec": {
      "display_name": "Python 3",
      "name": "python3"
    },
    "language_info": {
      "name": "python"
    }
  },
  "nbformat": 4,
  "nbformat_minor": 0
}
