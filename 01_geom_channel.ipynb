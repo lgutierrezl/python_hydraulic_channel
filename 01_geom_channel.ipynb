{
  "nbformat": 4,
  "nbformat_minor": 0,
  "metadata": {
    "colab": {
      "name": "Hidraulica_canales.ipynb",
      "provenance": [],
      "authorship_tag": "ABX9TyMG5+98eyymew1ryx1Rd+eV",
      "include_colab_link": true
    },
    "kernelspec": {
      "name": "python3",
      "display_name": "Python 3"
    },
    "language_info": {
      "name": "python"
    }
  },
  "cells": [
    {
      "cell_type": "markdown",
      "metadata": {
        "id": "view-in-github",
        "colab_type": "text"
      },
      "source": [
        "<a href=\"https://colab.research.google.com/github/lgutierrezl/python_hydraulic_channel/blob/main/01_geom_channel.ipynb\" target=\"_parent\"><img src=\"https://colab.research.google.com/assets/colab-badge.svg\" alt=\"Open In Colab\"/></a>"
      ]
    },
    {
      "cell_type": "markdown",
      "metadata": {
        "id": "Sf8-bI7nPioS"
      },
      "source": [
        "## Canal rectangular"
      ]
    },
    {
      "cell_type": "code",
      "metadata": {
        "id": "FX_RCikUPKXx"
      },
      "source": [
        "def canal_rectangular(base, tirante):\n",
        "  A = base*tirante\n",
        "  T = base\n",
        "  P = base+2*tirante\n",
        "  R = A/P\n",
        "  return A, T, P, R"
      ],
      "execution_count": null,
      "outputs": []
    },
    {
      "cell_type": "code",
      "metadata": {
        "colab": {
          "base_uri": "https://localhost:8080/"
        },
        "id": "spoPloQtPRvG",
        "outputId": "19f301db-f527-4370-adb0-cb609de907ff"
      },
      "source": [
        "canal_rectangular(2, 0.5)"
      ],
      "execution_count": null,
      "outputs": [
        {
          "output_type": "execute_result",
          "data": {
            "text/plain": [
              "(1.0, 2, 3.0, 0.3333333333333333)"
            ]
          },
          "metadata": {},
          "execution_count": 6
        }
      ]
    },
    {
      "cell_type": "markdown",
      "metadata": {
        "id": "XHqxcUL6RTyb"
      },
      "source": [
        "## Canal trapezoidal"
      ]
    },
    {
      "cell_type": "code",
      "metadata": {
        "id": "YpyApwd0RWoy"
      },
      "source": [
        "import numpy as np\n",
        "\n",
        "def canal_trapezoidal(base, tirante, talud):\n",
        "  A = (base+talud*tirante)*tirante\n",
        "  T = base+2*talud*tirante\n",
        "  P = base+2*tirante*np.sqrt(1+talud**2)\n",
        "  R = A/P\n",
        "  return A, T, P, R"
      ],
      "execution_count": null,
      "outputs": []
    },
    {
      "cell_type": "code",
      "metadata": {
        "id": "5M3u6KIeTSX3",
        "colab": {
          "base_uri": "https://localhost:8080/"
        },
        "outputId": "d1d6662d-c815-4e4f-e721-494601e0a160"
      },
      "source": [
        "canal_trapezoidal(0.5, 0.6, 0.5)"
      ],
      "execution_count": null,
      "outputs": [
        {
          "output_type": "execute_result",
          "data": {
            "text/plain": [
              "(0.48, 1.1, 1.8416407864998738, 0.2606371467870577)"
            ]
          },
          "metadata": {},
          "execution_count": 13
        }
      ]
    }
  ]
}